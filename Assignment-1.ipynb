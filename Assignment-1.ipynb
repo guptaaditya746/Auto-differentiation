{
 "cells": [
  {
   "cell_type": "code",
   "execution_count": 1,
   "id": "1028ccbe-71f0-440e-ae3d-a225c76aafcd",
   "metadata": {
    "ExecuteTime": {
     "end_time": "2023-10-20T08:00:34.792686Z",
     "start_time": "2023-10-20T08:00:34.778617Z"
    }
   },
   "outputs": [],
   "source": [
    "import numpy as np\n",
    "import pickle\n",
    "import matplotlib.pyplot as plt\n",
    "\n",
    "# we assumed that 2 dimensional shape"
   ]
  },
  {
   "cell_type": "code",
   "execution_count": 2,
   "id": "3d0a887d0a213c65",
   "metadata": {
    "ExecuteTime": {
     "end_time": "2023-10-20T08:00:35.024210Z",
     "start_time": "2023-10-20T08:00:35.018479Z"
    },
    "collapsed": false
   },
   "outputs": [],
   "source": [
    "# variable holder \n",
    "class Variable():\n",
    "    def __init__(self,inputShapes,data = None,requires_grad = True, name = \"Variable\",store_gradient = False):\n",
    "        # keep the step size to be scalar\n",
    "        self.shape = inputShapes\n",
    "        self.requires_grad = requires_grad\n",
    "        self.data = data.copy()\n",
    "        self.name = name\n",
    "        self.store_gradient = store_gradient\n",
    "        if type(self.data) == type(None):\n",
    "            self.value = np.random.rand(*self.shape) # 2d vector\n",
    "        else:\n",
    "            self.value = data\n",
    "        if self.store_gradient:\n",
    "            self.gradients = []\n",
    "\n",
    "    def forward(self):\n",
    "        return self.value\n",
    "\n",
    "    def backward(self,value,learning_rate):\n",
    "        # print(\"Variable  \" , value.shape)\n",
    "        # print(\"Original \" , self.value.shape)\n",
    "        if(self.requires_grad):\n",
    "            self.value -= learning_rate * value\n",
    "        if(self.store_gradient):\n",
    "            # TODO: confirm if they want the gradients to be stored with learning rate multiplied or not \n",
    "            self.gradients.append(value.tolist())\n",
    "    \n",
    "    def __str__(self):\n",
    "        string = f\"For the Variable {self.name}\"\n",
    "        string += '\\n'\n",
    "        string += self.value.__str__()\n",
    "        return string\n"
   ]
  },
  {
   "cell_type": "code",
   "execution_count": 3,
   "id": "b347e110-7285-484e-81bd-59a5e24abf1f",
   "metadata": {
    "ExecuteTime": {
     "end_time": "2023-10-20T08:00:35.315693Z",
     "start_time": "2023-10-20T08:00:35.305189Z"
    }
   },
   "outputs": [],
   "source": [
    "class MatrixMul():\n",
    "\n",
    "    def __init__(self):\n",
    "        pass \n",
    "\n",
    "    def __call__(self):\n",
    "        pass \n",
    "\n",
    "    def forward(self,matrixA, matrixB):\n",
    "        # matrixA is of Variable type\n",
    "        # matrixB is of variable type\n",
    "        # self.value is always numpy array in all the classes\n",
    "        self.matrixA = matrixA\n",
    "        self.matrixB = matrixB\n",
    "        # print(\"This is the matrix A : \",matrixA.value.shape)\n",
    "        # print(\"This is the matrix B : \",matrixB.value.shape)\n",
    "        self.value = self.matrixA.value @ self.matrixB.value\n",
    "\n",
    "        return self.value\n",
    "\n",
    "    def backward(self,value,learning_rate):\n",
    "        # value # matrix\n",
    "        # print(\"This is MatrixMul : \" , value.shape)\n",
    "        self.result1 = value @ self.matrixB.value.T # this will be passed to A\n",
    "        self.result2 = self.matrixA.value.T @ value # this will be passed to B\n",
    "        self.matrixA.backward(self.result1, learning_rate)\n",
    "        self.matrixB.backward(self.result2, learning_rate)\n",
    "\n",
    "        # a * b = c\n",
    "        # dl/dc = matrix\n",
    "        # dl/da = dl/dc . dc/da"
   ]
  },
  {
   "cell_type": "code",
   "execution_count": 4,
   "id": "eb31d78dae2a5378",
   "metadata": {
    "ExecuteTime": {
     "end_time": "2023-10-20T08:00:35.695025Z",
     "start_time": "2023-10-20T08:00:35.690945Z"
    },
    "collapsed": false
   },
   "outputs": [],
   "source": [
    "class ReLU():\n",
    "\n",
    "    def __init__(self):\n",
    "        pass\n",
    "\n",
    "    def forward(self,prevOperation):\n",
    "        # lastOperation  will be the object of matrix mul\n",
    "        self.prevOperation = prevOperation\n",
    "        self.value = np.where(self.prevOperation.value < 0,0,self.prevOperation.value)\n",
    "        # self.value values will be positive\n",
    "        return self.value\n",
    "\n",
    "    def backward(self,value,learning_rate):\n",
    "        # print(\"This is ReLU : \",value.shape)\n",
    "        temp = np.ones(self.value.shape)\n",
    "        temp = np.where(self.value<=0,0,temp)\n",
    "        self.result = temp * value\n",
    "        self.prevOperation.backward(self.result,learning_rate)"
   ]
  },
  {
   "cell_type": "code",
   "execution_count": 5,
   "id": "f611a5e7-5d93-43f5-8e72-4418e347fcde",
   "metadata": {
    "ExecuteTime": {
     "end_time": "2023-10-20T08:00:36.136798Z",
     "start_time": "2023-10-20T08:00:36.132270Z"
    }
   },
   "outputs": [],
   "source": [
    "class RegressionLoss():\n",
    "\n",
    "    def __init__(self):\n",
    "        pass\n",
    "\n",
    "    def forward(self,original,predicted):\n",
    "        self.original = original\n",
    "        self.predicted = predicted\n",
    "        self.value = np.mean((self.original.value-self.predicted.value) ** 2)\n",
    "        return self.value\n",
    "\n",
    "    def __call__(self):\n",
    "        pass\n",
    "\n",
    "    def backward(self,value,learning_rate):\n",
    "        ## Each of this functions should call the backward function of it's calle variables.\n",
    "        ## scalar value times\n",
    "        ## [[1]]  1* 1\n",
    "\n",
    "        # print(\"This is the Regression : \", value.shape )\n",
    "        self.dldy = (self.predicted.value - self.original.value) * value * 2 / self.original.shape[0]\n",
    "        # print(\"this is point\" , self.dldy)\n",
    "        # print(\"This should be of type add \", type(self.predicted))\n",
    "        self.predicted.backward(self.dldy,learning_rate)"
   ]
  },
  {
   "cell_type": "code",
   "execution_count": 6,
   "id": "8e267638bc0fc87b",
   "metadata": {
    "ExecuteTime": {
     "end_time": "2023-10-20T08:27:06.948510Z",
     "start_time": "2023-10-20T08:27:06.939447Z"
    },
    "collapsed": false
   },
   "outputs": [],
   "source": [
    "class BinaryLoss():\n",
    "    def __init__(self):\n",
    "        pass\n",
    "\n",
    "    def sigmoidFunciton(self,x):\n",
    "        return  1 / (1 + np.exp(-x))\n",
    "\n",
    "    def backwardSigmoidFunction(self,value):\n",
    "        # Computes the differentaition of the sigmoid function\n",
    "        return self.sigmoidFunciton(value) * (1 - self.sigmoidFunciton(value))\n",
    "\n",
    "    def forward(self,original,predicted):\n",
    "        self.original = original\n",
    "        self.predicted = predicted\n",
    "        self.logits =  self.sigmoidFunciton(self.predicted.value)\n",
    "        #Computes the binary classifiction loss\n",
    "        #TODO:check if its addition or mean\n",
    "        self.value = np.mean(self.original.value * np.log(self.logits) * -1 + -1 * np.log(1- self.logits) * (1-self.original.value))\n",
    "        return self.value\n",
    "\n",
    "    def __call__(self):\n",
    "        pass\n",
    "\n",
    "    def backward(self,value,learning_rate):\n",
    "        ## Each of this functions should call the backward function of it's calls variables.\n",
    "        ## scalar value times\n",
    "        ## [[1]]  1* 1\n",
    "        temp = -1 * (self.original.value) / self.logits + (1 - self.original.value) / (1-self.logits)\n",
    "        value = temp * value / self.original.shape[0] \n",
    "        self.sigmoidGrad = self.backwardSigmoidFunction(self.predicted.value) * value # this will be a vector\n",
    "        self.predicted.backward(self.sigmoidGrad,learning_rate)\n"
   ]
  },
  {
   "cell_type": "code",
   "execution_count": 7,
   "id": "a1ccb7ab298cfbd3",
   "metadata": {
    "ExecuteTime": {
     "end_time": "2023-10-20T08:27:07.124239Z",
     "start_time": "2023-10-20T08:27:07.117969Z"
    },
    "collapsed": false
   },
   "outputs": [],
   "source": [
    "class Add():\n",
    "    def __init__(self):\n",
    "        pass\n",
    "\n",
    "    def forward(self, f_input1, f_input2):\n",
    "        self.f_input1 = f_input1\n",
    "        self.f_input2 = f_input2\n",
    "        self.value = f_input1.value + f_input2.value\n",
    "        return self.value\n",
    "\n",
    "    def backward(self, b_grad, learning_rate):\n",
    "        # print(\"This is the Addition : \",b_grad.shape)\n",
    "        self.grad = b_grad * np.ones(self.value.shape)\n",
    "\n",
    "        self.f_input2.backward(self.grad, learning_rate)\n",
    "        self.f_input1.backward(self.grad, learning_rate)\n",
    "\n",
    "        # self.grad = b_grad * 1 #Addition\n",
    "        return self.grad"
   ]
  },
  {
   "cell_type": "code",
   "execution_count": 8,
   "id": "26bdd03b45a15b46",
   "metadata": {
    "ExecuteTime": {
     "end_time": "2023-10-20T08:27:07.297657Z",
     "start_time": "2023-10-20T08:27:07.291255Z"
    },
    "collapsed": false
   },
   "outputs": [],
   "source": [
    "# for bias\n",
    "class Bias(Variable):\n",
    "\n",
    "     def backward(self,value,learning_rate):\n",
    "         self.update = np.sum(value,axis = 0)\n",
    "         self.value -= self.update * learning_rate\n",
    "         \n",
    "         if(self.store_gradient):\n",
    "             # TODO: confirm if they want the gradients to be stored with learning rate multiplied or not \n",
    "             self.gradients.append(self.update.tolist())"
   ]
  },
  {
   "cell_type": "code",
   "execution_count": 9,
   "id": "8cec31439cda43d2",
   "metadata": {
    "ExecuteTime": {
     "end_time": "2023-10-20T08:27:07.448289Z",
     "start_time": "2023-10-20T08:27:07.443444Z"
    },
    "collapsed": false
   },
   "outputs": [],
   "source": [
    "# optional if needed \n",
    "class Linear():\n",
    "    def __init__(self,weight, bias,activation_function = False,name = \"layer\"):\n",
    "        # weight and bias should be of type Variable\n",
    "        # activation_function True means we are using ReLU\n",
    "        self.weight = weight\n",
    "        self.bias = bias\n",
    "        self.addition = Add()\n",
    "        self.matmul = MatrixMul()\n",
    "        self.activation_function = activation_function\n",
    "        self.name = name\n",
    "        if(self.activation_function):\n",
    "            self.activation = ReLU()\n",
    "\n",
    "    def forward(self,x):\n",
    "        self.input = x\n",
    "        self.value = self.matmul.forward(x,self.weight)\n",
    "        self.value = self.addition.forward(self.matmul,self.bias)\n",
    "        self.finalOperation = self.addition\n",
    "        if(self.activation_function):\n",
    "            self.value = self.activation.forward(self.addition)\n",
    "            self.finalOperation = self.activation\n",
    "        return self.finalOperation\n",
    "\n",
    "    def backward(self,grad,learning_rate):\n",
    "        # print(\"This is linear Linear : \", grad.shape)\n",
    "        if self.activation_function:\n",
    "            self.activation.backward(grad,learning_rate)\n",
    "        else:\n",
    "            self.addition.backward(grad,learning_rate)\n",
    "    \n",
    "    def __str__(self):\n",
    "        string = f\"For Layer {self.name}\"\n",
    "        string += '\\n'\n",
    "        string += self.weight.__str__()\n",
    "        string += '\\n'\n",
    "        string += self.bias.__str__()\n",
    "        return string"
   ]
  },
  {
   "cell_type": "code",
   "execution_count": 10,
   "id": "dc624f03",
   "metadata": {
    "ExecuteTime": {
     "end_time": "2023-10-20T08:27:07.594997Z",
     "start_time": "2023-10-20T08:27:07.585485Z"
    },
    "collapsed": false
   },
   "outputs": [],
   "source": [
    "def dataloader():\n",
    "    with open('assignment-one-test-parameters.pkl','rb') as f:\n",
    "        data = pickle.load(f)\n",
    "    inputs = data[\"inputs\"]\n",
    "    w1 = data[\"w1\"]\n",
    "    w2 = data[\"w2\"]\n",
    "    w3 = data[\"w3\"]\n",
    "    b1 = data[\"b1\"]\n",
    "    b2 = data[\"b2\"]\n",
    "    b3 = data[\"b3\"]\n",
    "    targets = np.reshape(data[\"targets\"],(data[\"targets\"].shape[0],1))\n",
    "    params = {\n",
    "        \"w1\" : w1.T,\n",
    "        \"w2\" : w2.T,\n",
    "        \"w3\" : w3.T,\n",
    "        \"b1\" : np.reshape(b1,(1,b1.shape[0])),\n",
    "        \"b2\" : np.reshape(b2,(1,b2.shape[0])),\n",
    "        \"b3\" : np.reshape(b3,(1,b3.shape[0]))\n",
    "    }\n",
    "    trainset = (inputs, targets)\n",
    "\n",
    "    return trainset, params\n"
   ]
  },
  {
   "cell_type": "code",
   "execution_count": 11,
   "id": "fde37cbaa26a8604",
   "metadata": {
    "ExecuteTime": {
     "end_time": "2023-10-20T08:27:07.694099Z",
     "start_time": "2023-10-20T08:27:07.688723Z"
    },
    "collapsed": false
   },
   "outputs": [],
   "source": [
    "trainset, params = dataloader()\n",
    "w1 = Variable(params[\"w1\"].shape,data= params[\"w1\"],name= \"w1\",store_gradient=True)\n",
    "w2 = Variable(params[\"w2\"].shape,data = params[\"w2\"],name = \"w2\",store_gradient=True)\n",
    "w3 = Variable(params[\"w3\"].shape,data = params[\"w3\"],name = \"w3\",store_gradient=True)\n",
    "b1 = Bias(params[\"b1\"].shape,data = params[\"b1\"] , name = \"b1\",store_gradient=True)\n",
    "b2 = Bias(params[\"b2\"].shape,data = params[\"b2\"] , name = \"b2\",store_gradient=True)\n",
    "b3 = Bias(params[\"b3\"].shape,data = params[\"b3\"] , name = \"b3\",store_gradient=True)"
   ]
  },
  {
   "cell_type": "code",
   "execution_count": 12,
   "id": "2897e839e4f467e",
   "metadata": {
    "ExecuteTime": {
     "end_time": "2023-10-20T08:27:07.838820Z",
     "start_time": "2023-10-20T08:27:07.832465Z"
    },
    "collapsed": false
   },
   "outputs": [
    {
     "name": "stdout",
     "output_type": "stream",
     "text": [
      "w1 shape :  (2, 10)\n",
      "w2 shape :  (10, 10)\n",
      "w3 shape :  (10, 1)\n"
     ]
    }
   ],
   "source": [
    "print(\"w1 shape : \",w1.value.shape)\n",
    "print(\"w2 shape : \",w2.value.shape)\n",
    "print(\"w3 shape : \",w3.value.shape)"
   ]
  },
  {
   "cell_type": "code",
   "execution_count": 13,
   "id": "7e81a21d7dad0908",
   "metadata": {
    "ExecuteTime": {
     "end_time": "2023-10-20T08:27:08.077076Z",
     "start_time": "2023-10-20T08:27:08.070502Z"
    },
    "collapsed": false
   },
   "outputs": [],
   "source": [
    "def get_batches(x,y,batch_size):\n",
    "    # shuffle the dataset\n",
    "    number_of_steps = x.shape[0] // batch_size\n",
    "\n",
    "    #TODO: shuffle the dataset\n",
    "    # pass the dataset\n",
    "    start = 0\n",
    "    end = batch_size\n",
    "    for i in range(number_of_steps):\n",
    "        x_final = Variable(x[start : end].shape,x[start : end],requires_grad=False)\n",
    "        y_final  = Variable(y[start : end].shape,y[start:end], requires_grad=False)\n",
    "        start += batch_size\n",
    "        end += batch_size\n",
    "        yield (x_final,y_final)\n",
    "    if(end > x.shape[0] and start < x.shape[0]):\n",
    "        x_final = Variable(x[start :].shape,x[start:],requires_grad=False)\n",
    "        y_final  = Variable(y[start :].shape,y[start:], requires_grad=False)\n",
    "        yield (x_final,y_final)"
   ]
  },
  {
   "cell_type": "code",
   "execution_count": 14,
   "id": "74d60a5177da0a36",
   "metadata": {
    "ExecuteTime": {
     "end_time": "2023-10-20T08:27:08.581580Z",
     "start_time": "2023-10-20T08:27:08.576364Z"
    },
    "collapsed": false
   },
   "outputs": [
    {
     "name": "stdout",
     "output_type": "stream",
     "text": [
      "(200, 2)\n",
      "This is the total :  200\n"
     ]
    }
   ],
   "source": [
    "x = trainset[0]\n",
    "y = trainset[1]\n",
    "total = 0\n",
    "k = 30\n",
    "for x,y in get_batches(x,y,200):\n",
    "    print(x.value.shape)\n",
    "    total += x.value.shape[0]\n",
    "    k-=1\n",
    "    if(k == 0):\n",
    "        break\n",
    "print(\"This is the total : \",total)"
   ]
  },
  {
   "cell_type": "code",
   "execution_count": 15,
   "id": "d426af5cc872eb2d",
   "metadata": {
    "ExecuteTime": {
     "end_time": "2023-10-20T08:27:09.003623Z",
     "start_time": "2023-10-20T08:27:08.997371Z"
    },
    "collapsed": false
   },
   "outputs": [],
   "source": [
    "# training loop\n",
    "n_epochs = 10\n",
    "batch_size = 200\n",
    "learning_rate = 0.01\n",
    "x = Variable(trainset[0].shape,trainset[0],requires_grad=False)\n",
    "temp = np.ones((200,1))\n",
    "y_true = Variable(temp.shape,temp,requires_grad=False)\n",
    "\n",
    "# Initialize the netword\n",
    "Linear1 = Linear(w1,b1,True)\n",
    "Linear2 = Linear(w2,b2,True)\n",
    "Linear3 = Linear(w3,b3,False)\n",
    "loss = BinaryLoss()\n",
    "\n",
    "# bookeeping the losses\n",
    "losses = []\n",
    "\n",
    "# run through each of the epochs\n",
    "for _ in range(n_epochs):\n",
    "    # for x,y_true in get_batches(trainset[0],trainset[1],batch_size=batch_size):\n",
    "        # forward pass\n",
    "    y = Linear1.forward(x)\n",
    "    y = Linear2.forward(y)\n",
    "    y = Linear3.forward(y)\n",
    "\n",
    "    loss_value = loss.forward(y_true,y)\n",
    "\n",
    "    losses.append(loss_value)\n",
    "\n",
    "    # backward pass\n",
    "    loss.backward(np.array([[1]]), learning_rate)"
   ]
  },
  {
   "cell_type": "code",
   "execution_count": 16,
   "id": "b642bed6c15ca3bb",
   "metadata": {
    "ExecuteTime": {
     "end_time": "2023-10-20T08:27:09.571046Z",
     "start_time": "2023-10-20T08:27:09.567069Z"
    },
    "collapsed": false
   },
   "outputs": [
    {
     "data": {
      "text/plain": [
       "[np.float64(0.9070418674751867),\n",
       " np.float64(0.9002413707199344),\n",
       " np.float64(0.8935140230207281),\n",
       " np.float64(0.8868651152211817),\n",
       " np.float64(0.8802881325459144),\n",
       " np.float64(0.8737747881397218),\n",
       " np.float64(0.8673316007240046),\n",
       " np.float64(0.8609620354998819),\n",
       " np.float64(0.8546634561085841),\n",
       " np.float64(0.8484339358854511)]"
      ]
     },
     "execution_count": 16,
     "metadata": {},
     "output_type": "execute_result"
    }
   ],
   "source": [
    "losses"
   ]
  },
  {
   "cell_type": "code",
   "execution_count": 17,
   "id": "61c89f6f",
   "metadata": {
    "ExecuteTime": {
     "end_time": "2023-10-20T08:20:02.170069Z",
     "start_time": "2023-10-20T08:20:02.098202Z"
    },
    "collapsed": false
   },
   "outputs": [
    {
     "data": {
      "text/plain": [
       "[<matplotlib.lines.Line2D at 0x2443e6a6110>]"
      ]
     },
     "execution_count": 17,
     "metadata": {},
     "output_type": "execute_result"
    },
    {
     "data": {
      "image/png": "[encoded data removed]",
      "text/plain": [
       "<Figure size 640x480 with 1 Axes>"
      ]
     },
     "metadata": {},
     "output_type": "display_data"
    }
   ],
   "source": [
    "plt.plot(np.arange(len(losses)),losses)"
   ]
  },
  {
   "cell_type": "code",
   "execution_count": 18,
   "id": "9ea11cd055df8d31",
   "metadata": {
    "ExecuteTime": {
     "end_time": "2023-10-19T17:04:20.926867Z",
     "start_time": "2023-10-19T17:04:20.917452Z"
    },
    "collapsed": false
   },
   "outputs": [
    {
     "name": "stdout",
     "output_type": "stream",
     "text": [
      "For Layer layer\n",
      "For the Variable w1\n",
      "[[-0.00577007 -0.5829702  -0.27330863 -0.01434872 -0.06260513 -0.21269672\n",
      "  -0.6757565  -0.29148576  0.27941236 -0.47946423]\n",
      " [ 0.37992668 -0.5202503   0.19043404  0.56058204  0.18659975 -0.1377245\n",
      "  -0.46918222  0.02619374  0.4241497  -0.30806667]]\n",
      "For the Variable b1\n",
      "[[ 0.26324886  0.5920284  -0.14396064  0.5226061  -0.11461861  0.07026402\n",
      "   0.6445701  -0.655962   -0.4453246  -0.17874108]]\n",
      "For Layer layer\n",
      "For the Variable w2\n",
      "[[-0.12326556  0.01671497  0.20526047  0.14280023 -0.24794397 -0.2947778\n",
      "   0.11934791  0.2974782  -0.13183556  0.12048068]\n",
      " [ 0.2738413  -0.15853058  0.32464042  0.12652348 -0.1256138   0.2782211\n",
      "   0.16774487  0.21307717  0.18231033  0.01185848]\n",
      " [-0.2049724   0.05350269  0.1259814  -0.1873474   0.12384551  0.24044143\n",
      "   0.22672863 -0.13788341 -0.19267552 -0.15466328]\n",
      " [-0.14555003 -0.29477298  0.04884614  0.09497624  0.25367004 -0.3158157\n",
      "   0.124951   -0.07961269  0.282363    0.14261685]\n",
      " [-0.2209295  -0.22849551  0.21218887  0.17358918  0.2750197   0.05918899\n",
      "  -0.31284982 -0.30123827  0.21662089 -0.30348134]\n",
      " [-0.29601702 -0.16238344 -0.18442275 -0.04002212  0.2774044  -0.05377714\n",
      "  -0.20383205 -0.00568394 -0.2675584  -0.18852642]\n",
      " [-0.18394096  0.20317113  0.07004491  0.0113709   0.05242654 -0.05484213\n",
      "   0.16635193 -0.23814166 -0.08446477 -0.08684028]\n",
      " [ 0.27182874  0.18541107 -0.24517313  0.07327145 -0.27498618 -0.14475544\n",
      "   0.0661869  -0.24392441  0.01426902 -0.15403877]\n",
      " [ 0.14110664 -0.14024544 -0.21917307  0.19617456  0.02900471  0.12160733\n",
      "  -0.24661513 -0.01742459  0.04609088 -0.11070042]\n",
      " [ 0.15346114 -0.01094192 -0.16233237  0.3035773  -0.19877101 -0.18768756\n",
      "  -0.18133602  0.04748005  0.07448723 -0.25964072]]\n",
      "For the Variable b2\n",
      "[[-0.06685509  0.07136939 -0.1925815  -0.01730921  0.21022554 -0.03529452\n",
      "   0.02178039 -0.02730918  0.0551464   0.18815275]]\n",
      "For Layer layer\n",
      "For the Variable w3\n",
      "[[ 0.2995592 ]\n",
      " [ 0.20165321]\n",
      " [ 0.30614492]\n",
      " [-0.0132109 ]\n",
      " [-0.2679761 ]\n",
      " [-0.14797209]\n",
      " [ 0.23179431]\n",
      " [-0.00157769]\n",
      " [-0.14514953]\n",
      " [-0.22948001]]\n",
      "For the Variable b3\n",
      "[[-0.2375771]]\n"
     ]
    }
   ],
   "source": [
    "# Printing the values of the weights and bias for each of the layer \n",
    "print(Linear1)\n",
    "print(Linear2)\n",
    "print(Linear3)"
   ]
  },
  {
   "cell_type": "code",
   "execution_count": 19,
   "id": "8cef61d7eb9f4012",
   "metadata": {
    "ExecuteTime": {
     "end_time": "2023-10-19T17:07:40.728412Z",
     "start_time": "2023-10-19T17:07:40.717487Z"
    },
    "collapsed": false
   },
   "outputs": [
    {
     "data": {
      "text/plain": [
       "array([[ 0.00476105,  0.0098948 ,  0.00963436,  0.00338704, -0.00146403,\n",
       "        -0.01000165,  0.00223117,  0.        ,  0.00131816,  0.00087525],\n",
       "       [-0.00603769, -0.00137139, -0.00818145,  0.0007551 ,  0.00509618,\n",
       "        -0.0126823 ,  0.00878066,  0.        ,  0.00130557,  0.00147942]])"
      ]
     },
     "execution_count": 19,
     "metadata": {},
     "output_type": "execute_result"
    }
   ],
   "source": [
    "# Computing the average for each of the layer weights and bias \n",
    "#TODO: the same thing for different parameters as well\n",
    "np.mean(np.array(Linear1.weight.gradients),axis = 0)"
   ]
  },
  {
   "cell_type": "code",
   "execution_count": null,
   "id": "8618d75bd0ad9d54",
   "metadata": {
    "collapsed": false
   },
   "outputs": [],
   "source": []
  }
 ],
 "metadata": {
  "kernelspec": {
   "display_name": "Python 3 (ipykernel)",
   "language": "python",
   "name": "python3"
  },
  "language_info": {
   "codemirror_mode": {
    "name": "ipython",
    "version": 3
   },
   "file_extension": ".py",
   "mimetype": "text/x-python",
   "name": "python",
   "nbconvert_exporter": "python",
   "pygments_lexer": "ipython3",
   "version": "3.10.8"
  }
 },
 "nbformat": 4,
 "nbformat_minor": 5
}
